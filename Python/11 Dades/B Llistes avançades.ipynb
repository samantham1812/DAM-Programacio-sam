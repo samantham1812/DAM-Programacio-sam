{
 "cells": [
  {
   "cell_type": "markdown",
   "metadata": {},
   "source": [
    "<div style=\"display: flex; width: 100%;\">\n",
    "    <div style=\"flex: 1; padding: 0px;\">\n",
    "        <p>© Albert Palacios Jiménez, 2023</p>\n",
    "    </div>\n",
    "    <div style=\"flex: 1; padding: 0px; text-align: right;\">\n",
    "        <img src=\"../assets/ieti.png\" height=\"32\" alt=\"Logo de IETI\" style=\"max-height: 32px;\">\n",
    "    </div>\n",
    "</div>\n",
    "<hr/>"
   ]
  },
  {
   "cell_type": "markdown",
   "metadata": {},
   "source": [
    "# Dades, llistes avançades\n",
    "\n",
    "En Python les cadenes de text es poden tractar com una llista de caràcters. \n",
    "\n",
    "A més, altres funcionalitats com 'random' o les pròpes funcions hereten capacitats de les llistes.\n"
   ]
  },
  {
   "cell_type": "markdown",
   "metadata": {},
   "source": [
    "## Random i llistes\n",
    "\n",
    "Python facilita el treball amb llistes i números aleatòris.\n",
    "\n",
    "* **choice(llista)**: Retorna un element aleatori d'una llista no buida\n",
    "\n",
    "* **shuffle(llista)**: Desordena una llista i mescla els seus elements aleatòriament\n",
    "\n",
    "* **sample(llista)**: Retorna una qüantitat aleatòria d'elements d'una llista"
   ]
  },
  {
   "cell_type": "code",
   "execution_count": null,
   "metadata": {},
   "outputs": [],
   "source": [
    "# Exemple d'escollir un element aleatori d'una llista\n",
    "import random\n",
    "\n",
    "llista = [\"Barcelona\", \"Madrid\", \"Sevilla\", \"Zaragoza\", \"Murcia\", \"Palma\", \"Bilbao\"]\n",
    "element = random.choice(llista)\n",
    "print(f\"Element aleatori de la llista: {element}\")"
   ]
  },
  {
   "cell_type": "code",
   "execution_count": null,
   "metadata": {},
   "outputs": [],
   "source": [
    "# Exemple de com desordenar una llista\n",
    "import random\n",
    "\n",
    "llista = [1, 2, 3, 4, 5, 6, 7, 8, 9]\n",
    "print(f\"Llista ordenada: {llista}\")\n",
    "\n",
    "random.shuffle(llista)\n",
    "print(f\"Llista desordenada: {llista}\")"
   ]
  },
  {
   "cell_type": "code",
   "execution_count": null,
   "metadata": {},
   "outputs": [],
   "source": [
    "# Exemple de com escollir una mostra aleatòria d'una llista\n",
    "import random\n",
    "\n",
    "llista = [1, 2, 3, 4, 5, 6, 7, 8, 9]\n",
    "print(f\"Llista ordenada: {llista}\")\n",
    "\n",
    "mostra = random.sample(llista, 3)\n",
    "print(f\"Mostra aleatòria de 3 elements: {mostra}\")\n",
    "\n",
    "mostra = random.sample(llista, 5)\n",
    "print(f\"Mostra aleatòria de 5 elements: {mostra}\")"
   ]
  },
  {
   "cell_type": "markdown",
   "metadata": {},
   "source": [
    "## Expressions regulars\n",
    "\n",
    "La llibreria 're' ens permet operar amb expressions regulars, per carregar-la es fa:\n",
    "\n",
    "import re\n",
    "\n",
    "De moment només la farem servir per treure les majúscules o mínuscules d'un text, amb les següents operacions:\n",
    "\n",
    "* text_sense_majuscules = re.sub(r'[A-ZÁÉÍÓÚÀÈÌÒÙÏÜ]', '', text)\n",
    "\n",
    "* text_sense_minuscules = re.sub(r'[a-záéíóúàèìòùïü]', '', text)"
   ]
  },
  {
   "cell_type": "code",
   "execution_count": null,
   "metadata": {},
   "outputs": [],
   "source": [
    "# Aquesta funció divideix una frase en un array de paraules tenint en compte si estàn entre \"\n",
    "import re\n",
    "def divideixFrase(frase):\n",
    "    pattern = r'(?:[\"\\'])(.+?)(?:[\"\\'])|(\\S+)'\n",
    "    parts = re.findall(pattern, frase)\n",
    "    return [part[0] or part[1] for part in parts]\n",
    "\n",
    "print(divideixFrase(\"Hola què tal?\"))\n",
    "print(divideixFrase(\"M'agrada jugar a \\\"Super Mario Bros\\\"\"))\n",
    "print(divideixFrase(\"M'agrada jugar a 'Super Mario Bros' i \\\"Super Mario Galaxy\\\"\"))"
   ]
  },
  {
   "cell_type": "markdown",
   "metadata": {},
   "source": [
    "## Exercici 1\n",
    "\n",
    "Fes dues funcions 'calculaMajuscules' i 'calculaMinuscules' que retornin el número de majúscules i minúscules d'un text respectivament.\n",
    "\n",
    "El càlcul es fa així:\n",
    "```python\n",
    "        numero_majuscules = longitud_del_text - longitud_del_text_sense_majuscules\n",
    "        numero_minuscules = longitud_del_text - longitud_del_text_sense_minuscules\n",
    "```"
   ]
  },
  {
   "cell_type": "code",
   "execution_count": null,
   "metadata": {},
   "outputs": [],
   "source": [
    "# Fes aquí el codi de l'exerici 1\n",
    "import re\n",
    "\n",
    "# Defineix aquí la funció \"calculaMajuscules\"\n",
    "def calculaMajuscules(text):\n",
    "    return -1\n",
    "\n",
    "# Defineix aquí la funció \"calculaMinuscules\"\n",
    "def calculaMinuscules(text):\n",
    "    return -1\n",
    "\n",
    "text = \"Aquest És Un Exemple Amb Majúscules.\"\n",
    "\n",
    "numero_majuscules = calculaMajuscules(text)\n",
    "print(f'El text \"{text}\" té {numero_majuscules} majúscules')\n",
    "\n",
    "numero_minuscules = calculaMinuscules(text)\n",
    "print(f'El text \"{text}\" té {numero_minuscules} minúscules')"
   ]
  },
  {
   "cell_type": "markdown",
   "metadata": {},
   "source": [
    "## Funció copy\n",
    "\n",
    "La funció 'shuffle' modifica la llista, i encara que assignem aquesta llista a una altre variable i fem un 'shuffle' totes dues queden modificades.\n"
   ]
  },
  {
   "cell_type": "code",
   "execution_count": null,
   "metadata": {},
   "outputs": [],
   "source": [
    "import random\n",
    "\n",
    "llistaA = [1, 2, 3, 4, 5]\n",
    "llistaB = llistaA \n",
    "# Llista B només és una referència a llista A\n",
    "\n",
    "random.shuffle(llistaB)\n",
    "\n",
    "print(llistaA)\n",
    "print(llistaB)"
   ]
  },
  {
   "cell_type": "markdown",
   "metadata": {},
   "source": [
    "Si volem evitar-ho, i fer un 'shuffle' sense modificar la llista original, al assignar la variable hem de fer un **copy**:"
   ]
  },
  {
   "cell_type": "code",
   "execution_count": null,
   "metadata": {},
   "outputs": [],
   "source": [
    "import random\n",
    "\n",
    "llistaA = [1, 2, 3, 4, 5]\n",
    "llistaB = llistaA.copy() \n",
    "# Ara llista B ja és un objecte nou (no una referència)\n",
    "\n",
    "random.shuffle(llistaB)\n",
    "\n",
    "print(llistaA)\n",
    "print(llistaB)"
   ]
  },
  {
   "cell_type": "markdown",
   "metadata": {},
   "source": [
    "## Escriptura avançada (aka posicionament avançat)\n",
    "\n",
    "El següent exmemple mostra com formatar una taula a partir d'un array d'arrays.\n",
    "\n",
    "Per fer-ho, calcula l'ample màxim (en caràcters) de cada columna.\n",
    "\n",
    "Després escriu la taula, fila a fila, tenint en compte l'ample màxim i l'alineació dessitjada."
   ]
  },
  {
   "cell_type": "code",
   "execution_count": null,
   "metadata": {},
   "outputs": [],
   "source": [
    "# Exemple de menú avançat\n",
    "taula = [\n",
    "    [\"1. Veure perfil\",         \"Veure informació del perfil\",          \"Gratis\"],\n",
    "    [\"2. Canviar contrasenya\",  \"Canviar la contrasenya de l'usuari\",   \"Premium\"],\n",
    "    [\"3. Sortir\",               \"Sortir de l'aplicació\",                \"Premium plus\"]\n",
    "]\n",
    "alineacions = [\"left\", \"center\", \"right\"]\n",
    "\n",
    "# Retorna la longitud màxima d'una columna d'una taula\n",
    "def ample_columna(taula, columna):\n",
    "    longitudMaxima = 0\n",
    "    for fila in taula:\n",
    "        longitudFila = len(fila[columna])\n",
    "        if (longitudFila > longitudMaxima):\n",
    "            longitudMaxima = longitudFila\n",
    "    return longitudMaxima\n",
    "\n",
    "# Retorna un array amb l'amplada màxima de cada columna d'una taula\n",
    "def amples_columnes(taula):\n",
    "    amplades_columnes = []\n",
    "    for columna in range(len(taula[0])):\n",
    "        amplades_columnes.append(ample_columna(taula, columna))\n",
    "    return amplades_columnes\n",
    "\n",
    "# Escriu una fila, tenint en compte les alineacions de cada columna\n",
    "def escriu_fila(taula, numero_fila, amplades_columnes, alineacions):\n",
    "    fila = taula[numero_fila]\n",
    "    txt = \"\"\n",
    "    for numero_columna in range(0, len(fila)):\n",
    "        txt_columna = fila[numero_columna]\n",
    "        txt_alineat = \"\"\n",
    "        espais_columna = amplades_columnes[numero_columna]\n",
    "\n",
    "        # Alinea segons el tipus d'alineació\n",
    "        if alineacions[numero_columna] == \"left\":\n",
    "            txt_alineat = txt_columna.ljust(espais_columna)\n",
    "        elif alineacions[numero_columna] == \"center\":\n",
    "            txt_alineat = txt_columna.center(espais_columna)\n",
    "        else: \n",
    "            txt_alineat = txt_columna.rjust(espais_columna)\n",
    "\n",
    "        # Afegeix el separador de columnes (només si no és la última columna)\n",
    "        ultima_columna = len(fila) - 1\n",
    "        if numero_columna < ultima_columna:\n",
    "            txt = txt + txt_alineat + \" | \"\n",
    "        else:\n",
    "            txt = txt + txt_alineat\n",
    "            \n",
    "    # Escriu la fila formatada        \n",
    "    print(txt)\n",
    "\n",
    "# Escriu una taula, tenint en compte les alineacions de cada columna\n",
    "def escriu_taula(taula, amplades_columnes, alineacions):\n",
    "    for numero_fila in range(len(taula)):\n",
    "        escriu_fila(taula, numero_fila, amplades_columnes, alineacions)\n",
    "\n",
    "amplades_columnes = amples_columnes(taula)\n",
    "print(\"Menú Principal\")\n",
    "escriu_taula(taula, amplades_columnes, alineacions)"
   ]
  },
  {
   "cell_type": "markdown",
   "metadata": {},
   "source": [
    "## Exercici 2\n",
    "\n",
    "Fes una funció (escriu_taula) que rebi els següents paràmetres:\n",
    "\n",
    "* **dades** una taula de dades homogènies (tots els elements tenen igual longitud)\n",
    "* **columnes** amb tants elements com columnes tingui la taula de dades\n",
    "* **alineacions** amb la mateixa longitud que les columnes, format pels caràcters \"<, ^, >\"\n",
    "* **amplades** amb la mateixa longitud que les columnes indicant l'amplada en caràcters de cada una\n",
    "\n",
    "L'array ha de tornar una taula formatada correctament, el separador vertical és | i l'horitzontal -\n",
    "\n",
    "* Si la cadena de text és més ample que la columna, l'ha de retallar\n",
    "* Si alguna de les llistes no té la mateixa longitud que la resta, ha de retornar un missatge d'error.\n",
    "\n",
    "Per exemple:\n",
    "```python\n",
    "ciutats = [\n",
    "    [0, \"Barcelona\", 1620343, 12, True],\n",
    "    [1, \"Madrid\", 3207247, 667, False],\n",
    "    [2, \"València\", 791413, 15, True],\n",
    "    [3, \"Màlaga\", 569130, 11, True],\n",
    "    [4, \"Sevilla\", 688711, 7, False],\n",
    "    [5, \"Alicante\", 330525, 12, True],\n",
    "    [6, \"Zaragoza\", 664938, 220, False],\n",
    "    [7, \"Gijón\", 275735, 3, True],\n",
    "    [8, \"Palma de Mallorca\", 22610, 14, True],\n",
    "    [9, \"Bilbao\", 345821, 30, False]\n",
    "]\n",
    "columnes = [\"id\", \"ciutat\", \"poblacio\", \"altitud\", \"costera\"]\n",
    "alineacions = ['left', 'left', 'center', 'center', 'right']\n",
    "amplades = [3, 10, 10, 8, 6]\n",
    "```\n",
    "```text\n",
    "------------------------------------------------\n",
    "|id  |ciutat     | poblacio  |altitud  |costera|\n",
    "------------------------------------------------\n",
    "|0   |Barcelona  | 1620343   |   12    |  True |\n",
    "|1   |Madrid     | 3207247   |  667    | False |\n",
    "|2   |València   |  791413   |   15    |  True |\n",
    "|3   |Màlaga     |  569130   |   11    |  True |\n",
    "|4   |Sevilla    |  688711   |   7     | False |\n",
    "|5   |Alicante   |  330525   |   12    |  True |\n",
    "|6   |Zaragoza   |  664938   |  220    | False |\n",
    "|7   |Gijón      |  275735   |   3     |  True |\n",
    "|8   |Palma de M |   22610   |   14    |  True |\n",
    "|9   |Bilbao     |  345821   |   30    | False |\n",
    "------------------------------------------------\n",
    "```"
   ]
  },
  {
   "cell_type": "code",
   "execution_count": null,
   "metadata": {},
   "outputs": [],
   "source": [
    "# Resol aquí l'exercici 2"
   ]
  }
 ],
 "metadata": {
  "kernelspec": {
   "display_name": "Python 3",
   "language": "python",
   "name": "python3"
  },
  "language_info": {
   "codemirror_mode": {
    "name": "ipython",
    "version": 3
   },
   "file_extension": ".py",
   "mimetype": "text/x-python",
   "name": "python",
   "nbconvert_exporter": "python",
   "pygments_lexer": "ipython3",
   "version": "3.13.0"
  },
  "orig_nbformat": 4
 },
 "nbformat": 4,
 "nbformat_minor": 2
}
